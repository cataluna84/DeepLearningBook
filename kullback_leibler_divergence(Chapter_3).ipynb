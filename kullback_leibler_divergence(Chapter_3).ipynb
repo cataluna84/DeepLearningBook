{
  "nbformat": 4,
  "nbformat_minor": 0,
  "metadata": {
    "colab": {
      "name": "kullback_leibler_divergence(Chapter_3).ipynb",
      "provenance": [],
      "collapsed_sections": [],
      "authorship_tag": "ABX9TyOkaDl3tkffFsw/+uewnx0Q",
      "include_colab_link": true
    },
    "kernelspec": {
      "name": "python3",
      "display_name": "Python 3"
    }
  },
  "cells": [
    {
      "cell_type": "markdown",
      "metadata": {
        "id": "view-in-github",
        "colab_type": "text"
      },
      "source": [
        "<a href=\"https://colab.research.google.com/github/mayankbhaskar007/DeepLearningBook/blob/master/kullback_leibler_divergence(Chapter_3).ipynb\" target=\"_parent\"><img src=\"https://colab.research.google.com/assets/colab-badge.svg\" alt=\"Open In Colab\"/></a>"
      ]
    },
    {
      "cell_type": "code",
      "metadata": {
        "id": "mEjvQce8w6Xj",
        "colab_type": "code",
        "colab": {}
      },
      "source": [
        "# From https://haphazardmethods.wordpress.com/2017/06/29/chapter-3-kullback-leibler-divergence/\n",
        "\n",
        "import numpy as np\n",
        "import matplotlib.pyplot as plt\n",
        "import matplotlib.cm as cm\n",
        "%matplotlib inline"
      ],
      "execution_count": 0,
      "outputs": []
    },
    {
      "cell_type": "code",
      "metadata": {
        "id": "W7EcZ9Nvw9wa",
        "colab_type": "code",
        "colab": {}
      },
      "source": [
        "def kullback_leibler(p_x, p_y):\n",
        "    \"\"\"\n",
        "    compute the kullback-leibler divergence of two discrete probability distributions declared by the arrays p_x, p_y\n",
        "    :param p_x:\n",
        "    :param p_y:\n",
        "    :return:\n",
        "    \"\"\"\n",
        "    return np.array(p_x).dot(np.log(np.array(p_x)) - np.log(np.array(p_y)))"
      ],
      "execution_count": 0,
      "outputs": []
    },
    {
      "cell_type": "code",
      "metadata": {
        "id": "7qpTn3C6xARl",
        "colab_type": "code",
        "colab": {}
      },
      "source": [
        "def gaussian_density(mu, sigma, xs):\n",
        "    \"\"\"\n",
        "    1-dimensional gaussian distribution\n",
        "    :param mu:\n",
        "    :param sigma:\n",
        "    :param xs:\n",
        "    :return:\n",
        "    \"\"\"\n",
        "    return (1 / (np.sqrt(2*np.pi*sigma))) * np.exp(- ((xs - mu)**2) / (2*sigma))"
      ],
      "execution_count": 0,
      "outputs": []
    },
    {
      "cell_type": "code",
      "metadata": {
        "id": "eYmIZF2rxB1i",
        "colab_type": "code",
        "colab": {}
      },
      "source": [
        "def function_p(xs, mus, sigmas, weight):\n",
        "    \"\"\"\n",
        "    Mixture of two 1-dimensional gaussians\n",
        "    :param xs:\n",
        "    :param mus:\n",
        "    :param sigmas:\n",
        "    :param weight:\n",
        "    :return:\n",
        "    \"\"\"\n",
        "    gauss_A = gaussian_density(mus[0], sigmas[0], xs)\n",
        "    gauss_B = gaussian_density(mus[1], sigmas[1], xs)\n",
        "    gauss_C = weight * gauss_A + (1-weight) * gauss_B\n",
        "\n",
        "    return gauss_C"
      ],
      "execution_count": 0,
      "outputs": []
    },
    {
      "cell_type": "code",
      "metadata": {
        "id": "5zXVmjbNxD8B",
        "colab_type": "code",
        "colab": {}
      },
      "source": [
        "xs = np.arange(-3, 11, 0.01)\n",
        "mus = [0, 8]\n",
        "sigmas = [1, 1]"
      ],
      "execution_count": 0,
      "outputs": []
    },
    {
      "cell_type": "code",
      "metadata": {
        "id": "ts56aNd1xFvL",
        "colab_type": "code",
        "outputId": "323c0687-6e09-43c6-b64b-8a80e1e9d914",
        "colab": {
          "base_uri": "https://localhost:8080/",
          "height": 85
        }
      },
      "source": [
        "min_p_q = np.inf\n",
        "min_mu_sigma_p_q = ()\n",
        "min_q_p = np.inf\n",
        "min_mu_sigma_q_p = ()\n",
        "\n",
        "# brute-force search for minimum KL-divergence\n",
        "for mu in np.arange(min(mus), max(mus), 0.1):\n",
        "    for sigma in np.arange(1, max(mus) - min(mus) + 1, 0.1):\n",
        "        ps = function_p(xs, mus, sigmas, 0.5)\n",
        "        qs = gaussian_density(mu, sigma, xs)\n",
        "        value_p_q = kullback_leibler(ps, qs)\n",
        "        if value_p_q < min_p_q:\n",
        "            min_p_q = value_p_q\n",
        "            min_mu_sigma_p_q = (mu, sigma)\n",
        "        value_q_p = kullback_leibler(qs, ps)\n",
        "        if value_q_p < min_q_p:\n",
        "            min_q_p = value_q_p\n",
        "            min_mu_sigma_q_p = (mu, sigma)\n",
        "            \n",
        "print (\"KL p||q: \", min_p_q)\n",
        "print (\"argmin mu: %f , sigma: %f\" %(min_mu_sigma_p_q[0], min_mu_sigma_p_q[1]))\n",
        "\n",
        "print (\"KL q||p: \", min_q_p)\n",
        "print (\"argmin mu: %f , sigma: %f\" %(min_mu_sigma_q_p[0], min_mu_sigma_q_p[1]))"
      ],
      "execution_count": 0,
      "outputs": [
        {
          "output_type": "stream",
          "text": [
            "KL p||q:  85.77831554983037\n",
            "argmin mu: 4.000000 , sigma: 8.900000\n",
            "KL q||p:  69.21332502871111\n",
            "argmin mu: 0.000000 , sigma: 1.000000\n"
          ],
          "name": "stdout"
        }
      ]
    },
    {
      "cell_type": "code",
      "metadata": {
        "id": "KVXP9Z4dxIOV",
        "colab_type": "code",
        "outputId": "bf7c2f6c-1c8d-423a-8013-542bd8fffc75",
        "colab": {
          "base_uri": "https://localhost:8080/",
          "height": 279
        }
      },
      "source": [
        "# plot the 3 distributions\n",
        "colors = cm.rainbow(np.linspace(0, 1, 2))\n",
        "plt.figure()\n",
        "ax = plt.plot(xs, function_p(xs, mus, sigmas, 0.5), label='p(x)')\n",
        "plt.draw()\n",
        "\n",
        "ax2 = plt.plot(xs, gaussian_density(min_mu_sigma_p_q[0], min_mu_sigma_p_q[1], xs), color=colors[0],\n",
        "               linestyle='dashed', label='q*(x) p||q')\n",
        "plt.draw()\n",
        "ax3 = plt.plot(xs, gaussian_density(min_mu_sigma_q_p[0], min_mu_sigma_q_p[1], xs), color=colors[1],\n",
        "               linestyle='dashed', label='q*(x) q||p')\n",
        "plt.draw()\n",
        "plt.xlabel('x')\n",
        "plt.ylabel('probability density')\n",
        "plt.legend()\n",
        "plt.show()"
      ],
      "execution_count": 0,
      "outputs": [
        {
          "output_type": "display_data",
          "data": {
            "image/png": "[encoded data removed]",
            "text/plain": [
              "<Figure size 432x288 with 1 Axes>"
            ]
          },
          "metadata": {
            "tags": []
          }
        }
      ]
    },
    {
      "cell_type": "code",
      "metadata": {
        "id": "DGF-YUOSxUUP",
        "colab_type": "code",
        "colab": {}
      },
      "source": [
        ""
      ],
      "execution_count": 0,
      "outputs": []
    }
  ]
}